{
  "cells": [
    {
      "cell_type": "markdown",
      "id": "2e16e07b",
      "metadata": {
        "id": "2e16e07b"
      },
      "source": [
        "### Question 1: What is a random variable in probability theory?\n",
        "\n",
        "**Answer:**"
      ]
    },
    {
      "cell_type": "markdown",
      "id": "5d3e3737",
      "metadata": {
        "id": "5d3e3737"
      },
      "source": [
        "A random variable is a numerical outcome of a random phenomenon. It assigns a numerical value to each possible outcome in a probability experiment. Random variables can be discrete (countable values) or continuous (any value in a range)."
      ]
    },
    {
      "cell_type": "markdown",
      "id": "f8bec429",
      "metadata": {
        "id": "f8bec429"
      },
      "source": [
        "### Question 2: What are the types of random variables?\n",
        "\n",
        "**Answer:**"
      ]
    },
    {
      "cell_type": "markdown",
      "id": "7d650ce4",
      "metadata": {
        "id": "7d650ce4"
      },
      "source": [
        "There are two main types:\n",
        "1. Discrete Random Variable: Takes countable values (e.g., number of heads in coin tosses).\n",
        "2. Continuous Random Variable: Takes infinite values within a range (e.g., height, weight, time)."
      ]
    },
    {
      "cell_type": "markdown",
      "id": "320f3154",
      "metadata": {
        "id": "320f3154"
      },
      "source": [
        "### Question 3: Explain the difference between discrete and continuous distributions.\n",
        "\n",
        "**Answer:**"
      ]
    },
    {
      "cell_type": "markdown",
      "id": "f3ca7523",
      "metadata": {
        "id": "f3ca7523"
      },
      "source": [
        "Discrete distributions describe probabilities of discrete random variables (countable outcomes). Examples: Binomial, Poisson. Continuous distributions describe probabilities of continuous random variables (uncountable values). Examples: Normal, Exponential."
      ]
    },
    {
      "cell_type": "markdown",
      "id": "8244f80c",
      "metadata": {
        "id": "8244f80c"
      },
      "source": [
        "### Question 4: What is a binomial distribution, and how is it used in probability?\n",
        "\n",
        "**Answer:**"
      ]
    },
    {
      "cell_type": "markdown",
      "id": "c957f906",
      "metadata": {
        "id": "c957f906"
      },
      "source": [
        "A binomial distribution models the number of successes in a fixed number of independent Bernoulli trials with a constant probability of success. It is used in quality control, surveys, and experiments where outcomes are success/failure."
      ]
    },
    {
      "cell_type": "markdown",
      "id": "eaf9e98b",
      "metadata": {
        "id": "eaf9e98b"
      },
      "source": [
        "### Question 5: What is the standard normal distribution, and why is it important?\n",
        "\n",
        "**Answer:**"
      ]
    },
    {
      "cell_type": "markdown",
      "source": [
        "The standard normal distribution is a normal distribution with mean = 0 and standard deviation = 1. It is important because it allows comparison across datasets, use of z-scores, and hypothesis testing."
      ],
      "metadata": {
        "id": "5G0kad48t58q"
      },
      "id": "5G0kad48t58q"
    },
    {
      "cell_type": "markdown",
      "id": "65800828",
      "metadata": {
        "id": "65800828"
      },
      "source": [
        "### Question 6: What is the Central Limit Theorem (CLT), and why is it critical in statistics?\n",
        "\n",
        "**Answer:**"
      ]
    },
    {
      "cell_type": "markdown",
      "id": "4cf85b89",
      "metadata": {
        "id": "4cf85b89"
      },
      "source": [
        "The CLT states that the sampling distribution of the sample mean approaches a normal distribution as the sample size increases, regardless of the population distribution. It is critical because it justifies the use of normal-based methods in inference."
      ]
    },
    {
      "cell_type": "markdown",
      "id": "24b2ab83",
      "metadata": {
        "id": "24b2ab83"
      },
      "source": [
        "### Question 7: What is the significance of confidence intervals in statistical analysis?\n",
        "\n",
        "**Answer:**"
      ]
    },
    {
      "cell_type": "markdown",
      "id": "6b09d3f7",
      "metadata": {
        "id": "6b09d3f7"
      },
      "source": [
        "Confidence intervals provide a range of plausible values for a population parameter, based on sample data. They measure the precision of an estimate and quantify uncertainty in decision-making."
      ]
    },
    {
      "cell_type": "markdown",
      "id": "e633f577",
      "metadata": {
        "id": "e633f577"
      },
      "source": [
        "### Question 8: What is the concept of expected value in a probability distribution?\n",
        "\n",
        "**Answer:**"
      ]
    },
    {
      "cell_type": "markdown",
      "id": "54d8f0fa",
      "metadata": {
        "id": "54d8f0fa"
      },
      "source": [
        "The expected value is the long-run average outcome of a random variable. It is calculated by multiplying each outcome by its probability and summing them. It represents the mean of a probability distribution."
      ]
    },
    {
      "cell_type": "markdown",
      "id": "b91e7ef0",
      "metadata": {
        "id": "b91e7ef0"
      },
      "source": [
        "### Question 9: Python program for normal distribution simulation.\n",
        "\n",
        "**Answer:**"
      ]
    },
    {
      "cell_type": "code",
      "execution_count": 1,
      "id": "eb3c919f",
      "metadata": {
        "colab": {
          "base_uri": "https://localhost:8080/",
          "height": 507
        },
        "id": "eb3c919f",
        "outputId": "4e23e978-315a-45bb-c9b5-43c28d060c61"
      },
      "outputs": [
        {
          "output_type": "stream",
          "name": "stdout",
          "text": [
            "Mean: 50.232799960044396\n",
            "Standard Deviation: 4.8696320006234615\n"
          ]
        },
        {
          "output_type": "display_data",
          "data": {
            "text/plain": [
              "<Figure size 640x480 with 1 Axes>"
            ],
            "image/png": "[encoded data removed]"
          },
          "metadata": {}
        }
      ],
      "source": [
        "import numpy as np\n",
        "import matplotlib.pyplot as plt\n",
        "\n",
        "data = np.random.normal(50, 5, 1000)\n",
        "mean = np.mean(data)\n",
        "std_dev = np.std(data)\n",
        "print('Mean:', mean)\n",
        "print('Standard Deviation:', std_dev)\n",
        "\n",
        "plt.hist(data, bins=30, edgecolor='black')\n",
        "plt.title('Normal Distribution (mean=50, sd=5)')\n",
        "plt.xlabel('Value')\n",
        "plt.ylabel('Frequency')\n",
        "plt.show()"
      ]
    },
    {
      "cell_type": "markdown",
      "id": "82f39538",
      "metadata": {
        "id": "82f39538"
      },
      "source": [
        "### Question 10: Apply CLT for sales trend and confidence interval.\n",
        "\n",
        "**Answer:**"
      ]
    },
    {
      "cell_type": "code",
      "execution_count": 2,
      "id": "2508a57a",
      "metadata": {
        "colab": {
          "base_uri": "https://localhost:8080/"
        },
        "id": "2508a57a",
        "outputId": "7d9cb074-801b-4a5c-98a2-75912412c331"
      },
      "outputs": [
        {
          "output_type": "stream",
          "name": "stdout",
          "text": [
            "Mean Sales: 248.25\n",
            "95% Confidence Interval: (np.float64(240.16957025147158), np.float64(256.3304297485284))\n"
          ]
        }
      ],
      "source": [
        "import numpy as np\n",
        "import scipy.stats as st\n",
        "\n",
        "daily_sales = [220, 245, 210, 265, 230, 250, 260, 275, 240, 255,\n",
        "               235, 260, 245, 250, 225, 270, 265, 255, 250, 260]\n",
        "\n",
        "mean_sales = np.mean(daily_sales)\n",
        "std_err = st.sem(daily_sales)\n",
        "confidence_interval = st.t.interval(0.95, len(daily_sales)-1, loc=mean_sales, scale=std_err)\n",
        "\n",
        "print('Mean Sales:', mean_sales)\n",
        "print('95% Confidence Interval:', confidence_interval)"
      ]
    }
  ],
  "metadata": {
    "colab": {
      "provenance": []
    },
    "language_info": {
      "name": "python"
    },
    "kernelspec": {
      "name": "python3",
      "display_name": "Python 3"
    }
  },
  "nbformat": 4,
  "nbformat_minor": 5
}